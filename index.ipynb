{
 "cells": [
  {
   "cell_type": "code",
   "execution_count": 42,
   "id": "4d5a0b34",
   "metadata": {},
   "outputs": [],
   "source": [
    "from sqlalchemy import create_engine\n",
    "from sqlalchemy.sql import text\n",
    "from sqlalchemy.orm import sessionmaker\n",
    "import os\n",
    "\n",
    "SOURCE_DB_NAME = 'source.db'\n",
    "SOURCE_DB_CONNECTION = 'sqlite:///{name}'.format(name=SOURCE_DB_NAME)\n",
    "TARGET_DB_NAME = 'target.db'\n",
    "TARGET_DB_CONNECTION = 'sqlite:///{name}'.format(name=SOURCE_DB_NAME)"
   ]
  },
  {
   "cell_type": "code",
   "execution_count": 43,
   "id": "189f494a",
   "metadata": {},
   "outputs": [
    {
     "name": "stdout",
     "output_type": "stream",
     "text": [
      "2021-06-04 16:57:42,715 INFO sqlalchemy.engine.Engine BEGIN (implicit)\n",
      "2021-06-04 16:57:42,718 INFO sqlalchemy.engine.Engine \n",
      "    CREATE TABLE projects(\n",
      "        id INT PRIMARY KEY, \n",
      "        name VARCHAR NOT NULL\n",
      "    )\n",
      "    \n",
      "2021-06-04 16:57:42,720 INFO sqlalchemy.engine.Engine [generated in 0.00221s] ()\n",
      "2021-06-04 16:57:42,929 INFO sqlalchemy.engine.Engine \n",
      "    CREATE TABLE users(\n",
      "        id INT PRIMARY KEY, \n",
      "        name VARCHAR NOT NULL, \n",
      "        project_id INT REFERENCES projects(id) NOT NULL\n",
      "    )\n",
      "    \n",
      "2021-06-04 16:57:42,931 INFO sqlalchemy.engine.Engine [generated in 0.00125s] ()\n",
      "2021-06-04 16:57:43,052 INFO sqlalchemy.engine.Engine INSERT INTO users(id, name, project_id) VALUES(?, ?, ?)\n",
      "2021-06-04 16:57:43,053 INFO sqlalchemy.engine.Engine [generated in 0.00106s] (1, 'Shivam', 1)\n",
      "2021-06-04 16:57:43,056 INFO sqlalchemy.engine.Engine INSERT INTO users(id, name, project_id) VALUES(?, ?, ?)\n",
      "2021-06-04 16:57:43,059 INFO sqlalchemy.engine.Engine [cached since 0.006355s ago] (2, 'Kishor', 2)\n",
      "2021-06-04 16:57:43,061 INFO sqlalchemy.engine.Engine INSERT INTO projects(id, name) VALUES(?, ?)\n",
      "2021-06-04 16:57:43,063 INFO sqlalchemy.engine.Engine [generated in 0.00229s] (1, 'A')\n",
      "2021-06-04 16:57:43,066 INFO sqlalchemy.engine.Engine INSERT INTO projects(id, name) VALUES(?, ?)\n",
      "2021-06-04 16:57:43,069 INFO sqlalchemy.engine.Engine [cached since 0.008067s ago] (2, 'B')\n",
      "2021-06-04 16:57:43,078 INFO sqlalchemy.engine.Engine COMMIT\n"
     ]
    }
   ],
   "source": [
    "if os.path.exists(SOURCE_DB_NAME):\n",
    "  os.remove(SOURCE_DB_NAME)\n",
    "\n",
    "source_engine = create_engine(SOURCE_DB_CONNECTION, echo = True)\n",
    "SourceSession = sessionmaker()\n",
    "SourceSession.configure(bind=source_engine)\n",
    "source_session = SourceSession()\n",
    "\n",
    "t_projects = text(\n",
    "    \"\"\"\n",
    "    CREATE TABLE projects(\n",
    "        id INT PRIMARY KEY, \n",
    "        name VARCHAR NOT NULL\n",
    "    )\n",
    "    \"\"\")\n",
    "\n",
    "t_users = text(\n",
    "    \"\"\"\n",
    "    CREATE TABLE users(\n",
    "        id INT PRIMARY KEY, \n",
    "        name VARCHAR NOT NULL, \n",
    "        project_id INT REFERENCES projects(id) NOT NULL\n",
    "    )\n",
    "    \"\"\")\n",
    "\n",
    "i_projects = text(\"\"\"INSERT INTO projects(id, name) VALUES(:id, :name)\"\"\")\n",
    "projects = (\n",
    "    { \"id\": 1, \"name\": \"A\" },\n",
    "    { \"id\": 2, \"name\": \"B\" },\n",
    ")\n",
    "\n",
    "i_users = text(\"\"\"INSERT INTO users(id, name, project_id) VALUES(:id, :name, :project_id)\"\"\")\n",
    "users = (\n",
    "    { \"id\": 1, \"name\": \"Shivam\", \"project_id\": 1 },\n",
    "    { \"id\": 2, \"name\": \"Kishor\", \"project_id\": 2 },\n",
    ")\n",
    "\n",
    "source_session.execute(t_projects)\n",
    "source_session.execute(t_users)\n",
    "\n",
    "for user in users:\n",
    "    source_session.execute(i_users, user)\n",
    "\n",
    "for project in projects:\n",
    "    source_session.execute(i_projects, project)\n",
    "\n",
    "source_session.commit()  "
   ]
  },
  {
   "cell_type": "code",
   "execution_count": 44,
   "id": "78f7ae3d",
   "metadata": {},
   "outputs": [
    {
     "name": "stdout",
     "output_type": "stream",
     "text": [
      "2021-06-04 16:57:43,360 INFO sqlalchemy.engine.Engine BEGIN (implicit)\n",
      "2021-06-04 16:57:43,362 INFO sqlalchemy.engine.Engine \n",
      "    CREATE VIEW v_dw \n",
      "    AS \n",
      "    SELECT \n",
      "        users.id AS user_id,\n",
      "        users.name AS user_name,\n",
      "        projects.id AS project_id,\n",
      "        projects.name AS project_name\n",
      "    FROM \n",
      "        users, projects \n",
      "    WHERE \n",
      "        users.project_id = projects.id\n",
      "    \n",
      "2021-06-04 16:57:43,363 INFO sqlalchemy.engine.Engine [generated in 0.00152s] ()\n",
      "2021-06-04 16:57:43,550 INFO sqlalchemy.engine.Engine COMMIT\n"
     ]
    }
   ],
   "source": [
    "v_dw = text(\n",
    "    \"\"\"\n",
    "    CREATE VIEW v_dw \n",
    "    AS \n",
    "    SELECT \n",
    "        users.id AS user_id,\n",
    "        users.name AS user_name,\n",
    "        projects.id AS project_id,\n",
    "        projects.name AS project_name\n",
    "    FROM \n",
    "        users, projects \n",
    "    WHERE \n",
    "        users.project_id = projects.id\n",
    "    \"\"\")\n",
    "\n",
    "source_session.execute(v_dw)\n",
    "source_session.commit()"
   ]
  },
  {
   "cell_type": "code",
   "execution_count": 45,
   "id": "e51d6831",
   "metadata": {},
   "outputs": [],
   "source": [
    "!sqlacodegen --tables v_dw --outfile models.py {SOURCE_DB_CONNECTION}"
   ]
  },
  {
   "cell_type": "code",
   "execution_count": 46,
   "id": "78edf8b6",
   "metadata": {},
   "outputs": [],
   "source": [
    "target_engine = create_engine(TARGET_DB_CONNECTION, echo = True)\n",
    "TargetSession = sessionmaker()\n",
    "TargetSession.configure(bind=target_engine)\n",
    "target_session = TargetSession()"
   ]
  },
  {
   "cell_type": "code",
   "execution_count": 47,
   "id": "a08780eb",
   "metadata": {},
   "outputs": [
    {
     "name": "stdout",
     "output_type": "stream",
     "text": [
      "2021-06-04 16:57:50,713 INFO sqlalchemy.engine.Engine BEGIN (implicit)\n",
      "2021-06-04 16:57:50,715 INFO sqlalchemy.engine.Engine PRAGMA main.table_info(\"v_dw\")\n",
      "2021-06-04 16:57:50,717 INFO sqlalchemy.engine.Engine [raw sql] ()\n",
      "2021-06-04 16:57:50,721 INFO sqlalchemy.engine.Engine COMMIT\n"
     ]
    }
   ],
   "source": [
    "from models import metadata\n",
    "\n",
    "metadata.create_all(target_engine)"
   ]
  },
  {
   "cell_type": "code",
   "execution_count": 48,
   "id": "06cad081",
   "metadata": {},
   "outputs": [],
   "source": [
    "def filter_row(row):\n",
    "    if row['user_id'] == 2:\n",
    "        return row, True\n",
    "    else:\n",
    "        return row, False"
   ]
  },
  {
   "cell_type": "code",
   "execution_count": 49,
   "id": "0462f23d",
   "metadata": {},
   "outputs": [
    {
     "name": "stdout",
     "output_type": "stream",
     "text": [
      "2021-06-04 16:57:52,334 INFO sqlalchemy.engine.Engine BEGIN (implicit)\n",
      "2021-06-04 16:57:52,340 INFO sqlalchemy.engine.Engine SELECT v_dw.user_id AS v_dw_user_id, v_dw.user_name AS v_dw_user_name, v_dw.project_id AS v_dw_project_id, v_dw.project_name AS v_dw_project_name \n",
      "FROM v_dw\n",
      "2021-06-04 16:57:52,342 INFO sqlalchemy.engine.Engine [generated in 0.00171s] ()\n",
      "2021-06-04 16:57:52,349 INFO sqlalchemy.engine.Engine BEGIN (implicit)\n",
      "2021-06-04 16:57:52,353 INFO sqlalchemy.engine.Engine INSERT INTO v_dw (user_id, user_name, project_id, project_name) VALUES (?, ?, ?, ?)\n",
      "2021-06-04 16:57:52,356 INFO sqlalchemy.engine.Engine [generated in 0.00254s] (2, 'Kishor', 2, 'B')\n"
     ]
    },
    {
     "ename": "OperationalError",
     "evalue": "(sqlite3.OperationalError) cannot modify v_dw because it is a view\n[SQL: INSERT INTO v_dw (user_id, user_name, project_id, project_name) VALUES (?, ?, ?, ?)]\n[parameters: (2, 'Kishor', 2, 'B')]\n(Background on this error at: http://sqlalche.me/e/14/e3q8)",
     "output_type": "error",
     "traceback": [
      "\u001b[1;31m---------------------------------------------------------------------------\u001b[0m",
      "\u001b[1;31mOperationalError\u001b[0m                          Traceback (most recent call last)",
      "\u001b[1;32mc:\\users\\shivam\\appdata\\local\\programs\\python\\python39\\lib\\site-packages\\sqlalchemy\\engine\\base.py\u001b[0m in \u001b[0;36m_execute_context\u001b[1;34m(self, dialect, constructor, statement, parameters, execution_options, *args, **kw)\u001b[0m\n\u001b[0;32m   1769\u001b[0m                 \u001b[1;32mif\u001b[0m \u001b[1;32mnot\u001b[0m \u001b[0mevt_handled\u001b[0m\u001b[1;33m:\u001b[0m\u001b[1;33m\u001b[0m\u001b[1;33m\u001b[0m\u001b[0m\n\u001b[1;32m-> 1770\u001b[1;33m                     self.dialect.do_execute(\n\u001b[0m\u001b[0;32m   1771\u001b[0m                         \u001b[0mcursor\u001b[0m\u001b[1;33m,\u001b[0m \u001b[0mstatement\u001b[0m\u001b[1;33m,\u001b[0m \u001b[0mparameters\u001b[0m\u001b[1;33m,\u001b[0m \u001b[0mcontext\u001b[0m\u001b[1;33m\u001b[0m\u001b[1;33m\u001b[0m\u001b[0m\n",
      "\u001b[1;32mc:\\users\\shivam\\appdata\\local\\programs\\python\\python39\\lib\\site-packages\\sqlalchemy\\engine\\default.py\u001b[0m in \u001b[0;36mdo_execute\u001b[1;34m(self, cursor, statement, parameters, context)\u001b[0m\n\u001b[0;32m    716\u001b[0m     \u001b[1;32mdef\u001b[0m \u001b[0mdo_execute\u001b[0m\u001b[1;33m(\u001b[0m\u001b[0mself\u001b[0m\u001b[1;33m,\u001b[0m \u001b[0mcursor\u001b[0m\u001b[1;33m,\u001b[0m \u001b[0mstatement\u001b[0m\u001b[1;33m,\u001b[0m \u001b[0mparameters\u001b[0m\u001b[1;33m,\u001b[0m \u001b[0mcontext\u001b[0m\u001b[1;33m=\u001b[0m\u001b[1;32mNone\u001b[0m\u001b[1;33m)\u001b[0m\u001b[1;33m:\u001b[0m\u001b[1;33m\u001b[0m\u001b[1;33m\u001b[0m\u001b[0m\n\u001b[1;32m--> 717\u001b[1;33m         \u001b[0mcursor\u001b[0m\u001b[1;33m.\u001b[0m\u001b[0mexecute\u001b[0m\u001b[1;33m(\u001b[0m\u001b[0mstatement\u001b[0m\u001b[1;33m,\u001b[0m \u001b[0mparameters\u001b[0m\u001b[1;33m)\u001b[0m\u001b[1;33m\u001b[0m\u001b[1;33m\u001b[0m\u001b[0m\n\u001b[0m\u001b[0;32m    718\u001b[0m \u001b[1;33m\u001b[0m\u001b[0m\n",
      "\u001b[1;31mOperationalError\u001b[0m: cannot modify v_dw because it is a view",
      "\nThe above exception was the direct cause of the following exception:\n",
      "\u001b[1;31mOperationalError\u001b[0m                          Traceback (most recent call last)",
      "\u001b[1;32m<ipython-input-49-554c090cffda>\u001b[0m in \u001b[0;36m<module>\u001b[1;34m\u001b[0m\n\u001b[0;32m      9\u001b[0m \u001b[1;33m\u001b[0m\u001b[0m\n\u001b[0;32m     10\u001b[0m \u001b[1;32mfor\u001b[0m \u001b[0mdata\u001b[0m \u001b[1;32min\u001b[0m \u001b[0mbatch\u001b[0m\u001b[1;33m:\u001b[0m\u001b[1;33m\u001b[0m\u001b[1;33m\u001b[0m\u001b[0m\n\u001b[1;32m---> 11\u001b[1;33m     \u001b[0mtarget_session\u001b[0m\u001b[1;33m.\u001b[0m\u001b[0mexecute\u001b[0m\u001b[1;33m(\u001b[0m\u001b[0mt_v_dw\u001b[0m\u001b[1;33m.\u001b[0m\u001b[0minsert\u001b[0m\u001b[1;33m(\u001b[0m\u001b[0mvalues\u001b[0m\u001b[1;33m=\u001b[0m\u001b[0mdata\u001b[0m\u001b[1;33m)\u001b[0m\u001b[1;33m)\u001b[0m\u001b[1;33m\u001b[0m\u001b[1;33m\u001b[0m\u001b[0m\n\u001b[0m",
      "\u001b[1;32mc:\\users\\shivam\\appdata\\local\\programs\\python\\python39\\lib\\site-packages\\sqlalchemy\\orm\\session.py\u001b[0m in \u001b[0;36mexecute\u001b[1;34m(self, statement, params, execution_options, bind_arguments, _parent_execute_state, _add_event, **kw)\u001b[0m\n\u001b[0;32m   1675\u001b[0m \u001b[1;33m\u001b[0m\u001b[0m\n\u001b[0;32m   1676\u001b[0m         \u001b[0mconn\u001b[0m \u001b[1;33m=\u001b[0m \u001b[0mself\u001b[0m\u001b[1;33m.\u001b[0m\u001b[0m_connection_for_bind\u001b[0m\u001b[1;33m(\u001b[0m\u001b[0mbind\u001b[0m\u001b[1;33m,\u001b[0m \u001b[0mclose_with_result\u001b[0m\u001b[1;33m=\u001b[0m\u001b[1;32mTrue\u001b[0m\u001b[1;33m)\u001b[0m\u001b[1;33m\u001b[0m\u001b[1;33m\u001b[0m\u001b[0m\n\u001b[1;32m-> 1677\u001b[1;33m         \u001b[0mresult\u001b[0m \u001b[1;33m=\u001b[0m \u001b[0mconn\u001b[0m\u001b[1;33m.\u001b[0m\u001b[0m_execute_20\u001b[0m\u001b[1;33m(\u001b[0m\u001b[0mstatement\u001b[0m\u001b[1;33m,\u001b[0m \u001b[0mparams\u001b[0m \u001b[1;32mor\u001b[0m \u001b[1;33m{\u001b[0m\u001b[1;33m}\u001b[0m\u001b[1;33m,\u001b[0m \u001b[0mexecution_options\u001b[0m\u001b[1;33m)\u001b[0m\u001b[1;33m\u001b[0m\u001b[1;33m\u001b[0m\u001b[0m\n\u001b[0m\u001b[0;32m   1678\u001b[0m \u001b[1;33m\u001b[0m\u001b[0m\n\u001b[0;32m   1679\u001b[0m         \u001b[1;32mif\u001b[0m \u001b[0mcompile_state_cls\u001b[0m\u001b[1;33m:\u001b[0m\u001b[1;33m\u001b[0m\u001b[1;33m\u001b[0m\u001b[0m\n",
      "\u001b[1;32mc:\\users\\shivam\\appdata\\local\\programs\\python\\python39\\lib\\site-packages\\sqlalchemy\\engine\\base.py\u001b[0m in \u001b[0;36m_execute_20\u001b[1;34m(self, statement, parameters, execution_options)\u001b[0m\n\u001b[0;32m   1580\u001b[0m             )\n\u001b[0;32m   1581\u001b[0m         \u001b[1;32melse\u001b[0m\u001b[1;33m:\u001b[0m\u001b[1;33m\u001b[0m\u001b[1;33m\u001b[0m\u001b[0m\n\u001b[1;32m-> 1582\u001b[1;33m             \u001b[1;32mreturn\u001b[0m \u001b[0mmeth\u001b[0m\u001b[1;33m(\u001b[0m\u001b[0mself\u001b[0m\u001b[1;33m,\u001b[0m \u001b[0margs_10style\u001b[0m\u001b[1;33m,\u001b[0m \u001b[0mkwargs_10style\u001b[0m\u001b[1;33m,\u001b[0m \u001b[0mexecution_options\u001b[0m\u001b[1;33m)\u001b[0m\u001b[1;33m\u001b[0m\u001b[1;33m\u001b[0m\u001b[0m\n\u001b[0m\u001b[0;32m   1583\u001b[0m \u001b[1;33m\u001b[0m\u001b[0m\n\u001b[0;32m   1584\u001b[0m     def exec_driver_sql(\n",
      "\u001b[1;32mc:\\users\\shivam\\appdata\\local\\programs\\python\\python39\\lib\\site-packages\\sqlalchemy\\sql\\elements.py\u001b[0m in \u001b[0;36m_execute_on_connection\u001b[1;34m(self, connection, multiparams, params, execution_options, _force)\u001b[0m\n\u001b[0;32m    322\u001b[0m     ):\n\u001b[0;32m    323\u001b[0m         \u001b[1;32mif\u001b[0m \u001b[0m_force\u001b[0m \u001b[1;32mor\u001b[0m \u001b[0mself\u001b[0m\u001b[1;33m.\u001b[0m\u001b[0msupports_execution\u001b[0m\u001b[1;33m:\u001b[0m\u001b[1;33m\u001b[0m\u001b[1;33m\u001b[0m\u001b[0m\n\u001b[1;32m--> 324\u001b[1;33m             return connection._execute_clauseelement(\n\u001b[0m\u001b[0;32m    325\u001b[0m                 \u001b[0mself\u001b[0m\u001b[1;33m,\u001b[0m \u001b[0mmultiparams\u001b[0m\u001b[1;33m,\u001b[0m \u001b[0mparams\u001b[0m\u001b[1;33m,\u001b[0m \u001b[0mexecution_options\u001b[0m\u001b[1;33m\u001b[0m\u001b[1;33m\u001b[0m\u001b[0m\n\u001b[0;32m    326\u001b[0m             )\n",
      "\u001b[1;32mc:\\users\\shivam\\appdata\\local\\programs\\python\\python39\\lib\\site-packages\\sqlalchemy\\engine\\base.py\u001b[0m in \u001b[0;36m_execute_clauseelement\u001b[1;34m(self, elem, multiparams, params, execution_options)\u001b[0m\n\u001b[0;32m   1449\u001b[0m             \u001b[0mlinting\u001b[0m\u001b[1;33m=\u001b[0m\u001b[0mself\u001b[0m\u001b[1;33m.\u001b[0m\u001b[0mdialect\u001b[0m\u001b[1;33m.\u001b[0m\u001b[0mcompiler_linting\u001b[0m \u001b[1;33m|\u001b[0m \u001b[0mcompiler\u001b[0m\u001b[1;33m.\u001b[0m\u001b[0mWARN_LINTING\u001b[0m\u001b[1;33m,\u001b[0m\u001b[1;33m\u001b[0m\u001b[1;33m\u001b[0m\u001b[0m\n\u001b[0;32m   1450\u001b[0m         )\n\u001b[1;32m-> 1451\u001b[1;33m         ret = self._execute_context(\n\u001b[0m\u001b[0;32m   1452\u001b[0m             \u001b[0mdialect\u001b[0m\u001b[1;33m,\u001b[0m\u001b[1;33m\u001b[0m\u001b[1;33m\u001b[0m\u001b[0m\n\u001b[0;32m   1453\u001b[0m             \u001b[0mdialect\u001b[0m\u001b[1;33m.\u001b[0m\u001b[0mexecution_ctx_cls\u001b[0m\u001b[1;33m.\u001b[0m\u001b[0m_init_compiled\u001b[0m\u001b[1;33m,\u001b[0m\u001b[1;33m\u001b[0m\u001b[1;33m\u001b[0m\u001b[0m\n",
      "\u001b[1;32mc:\\users\\shivam\\appdata\\local\\programs\\python\\python39\\lib\\site-packages\\sqlalchemy\\engine\\base.py\u001b[0m in \u001b[0;36m_execute_context\u001b[1;34m(self, dialect, constructor, statement, parameters, execution_options, *args, **kw)\u001b[0m\n\u001b[0;32m   1811\u001b[0m \u001b[1;33m\u001b[0m\u001b[0m\n\u001b[0;32m   1812\u001b[0m         \u001b[1;32mexcept\u001b[0m \u001b[0mBaseException\u001b[0m \u001b[1;32mas\u001b[0m \u001b[0me\u001b[0m\u001b[1;33m:\u001b[0m\u001b[1;33m\u001b[0m\u001b[1;33m\u001b[0m\u001b[0m\n\u001b[1;32m-> 1813\u001b[1;33m             self._handle_dbapi_exception(\n\u001b[0m\u001b[0;32m   1814\u001b[0m                 \u001b[0me\u001b[0m\u001b[1;33m,\u001b[0m \u001b[0mstatement\u001b[0m\u001b[1;33m,\u001b[0m \u001b[0mparameters\u001b[0m\u001b[1;33m,\u001b[0m \u001b[0mcursor\u001b[0m\u001b[1;33m,\u001b[0m \u001b[0mcontext\u001b[0m\u001b[1;33m\u001b[0m\u001b[1;33m\u001b[0m\u001b[0m\n\u001b[0;32m   1815\u001b[0m             )\n",
      "\u001b[1;32mc:\\users\\shivam\\appdata\\local\\programs\\python\\python39\\lib\\site-packages\\sqlalchemy\\engine\\base.py\u001b[0m in \u001b[0;36m_handle_dbapi_exception\u001b[1;34m(self, e, statement, parameters, cursor, context)\u001b[0m\n\u001b[0;32m   1992\u001b[0m                 \u001b[0mutil\u001b[0m\u001b[1;33m.\u001b[0m\u001b[0mraise_\u001b[0m\u001b[1;33m(\u001b[0m\u001b[0mnewraise\u001b[0m\u001b[1;33m,\u001b[0m \u001b[0mwith_traceback\u001b[0m\u001b[1;33m=\u001b[0m\u001b[0mexc_info\u001b[0m\u001b[1;33m[\u001b[0m\u001b[1;36m2\u001b[0m\u001b[1;33m]\u001b[0m\u001b[1;33m,\u001b[0m \u001b[0mfrom_\u001b[0m\u001b[1;33m=\u001b[0m\u001b[0me\u001b[0m\u001b[1;33m)\u001b[0m\u001b[1;33m\u001b[0m\u001b[1;33m\u001b[0m\u001b[0m\n\u001b[0;32m   1993\u001b[0m             \u001b[1;32melif\u001b[0m \u001b[0mshould_wrap\u001b[0m\u001b[1;33m:\u001b[0m\u001b[1;33m\u001b[0m\u001b[1;33m\u001b[0m\u001b[0m\n\u001b[1;32m-> 1994\u001b[1;33m                 util.raise_(\n\u001b[0m\u001b[0;32m   1995\u001b[0m                     \u001b[0msqlalchemy_exception\u001b[0m\u001b[1;33m,\u001b[0m \u001b[0mwith_traceback\u001b[0m\u001b[1;33m=\u001b[0m\u001b[0mexc_info\u001b[0m\u001b[1;33m[\u001b[0m\u001b[1;36m2\u001b[0m\u001b[1;33m]\u001b[0m\u001b[1;33m,\u001b[0m \u001b[0mfrom_\u001b[0m\u001b[1;33m=\u001b[0m\u001b[0me\u001b[0m\u001b[1;33m\u001b[0m\u001b[1;33m\u001b[0m\u001b[0m\n\u001b[0;32m   1996\u001b[0m                 )\n",
      "\u001b[1;32mc:\\users\\shivam\\appdata\\local\\programs\\python\\python39\\lib\\site-packages\\sqlalchemy\\util\\compat.py\u001b[0m in \u001b[0;36mraise_\u001b[1;34m(***failed resolving arguments***)\u001b[0m\n\u001b[0;32m    205\u001b[0m \u001b[1;33m\u001b[0m\u001b[0m\n\u001b[0;32m    206\u001b[0m         \u001b[1;32mtry\u001b[0m\u001b[1;33m:\u001b[0m\u001b[1;33m\u001b[0m\u001b[1;33m\u001b[0m\u001b[0m\n\u001b[1;32m--> 207\u001b[1;33m             \u001b[1;32mraise\u001b[0m \u001b[0mexception\u001b[0m\u001b[1;33m\u001b[0m\u001b[1;33m\u001b[0m\u001b[0m\n\u001b[0m\u001b[0;32m    208\u001b[0m         \u001b[1;32mfinally\u001b[0m\u001b[1;33m:\u001b[0m\u001b[1;33m\u001b[0m\u001b[1;33m\u001b[0m\u001b[0m\n\u001b[0;32m    209\u001b[0m             \u001b[1;31m# credit to\u001b[0m\u001b[1;33m\u001b[0m\u001b[1;33m\u001b[0m\u001b[1;33m\u001b[0m\u001b[0m\n",
      "\u001b[1;32mc:\\users\\shivam\\appdata\\local\\programs\\python\\python39\\lib\\site-packages\\sqlalchemy\\engine\\base.py\u001b[0m in \u001b[0;36m_execute_context\u001b[1;34m(self, dialect, constructor, statement, parameters, execution_options, *args, **kw)\u001b[0m\n\u001b[0;32m   1768\u001b[0m                             \u001b[1;32mbreak\u001b[0m\u001b[1;33m\u001b[0m\u001b[1;33m\u001b[0m\u001b[0m\n\u001b[0;32m   1769\u001b[0m                 \u001b[1;32mif\u001b[0m \u001b[1;32mnot\u001b[0m \u001b[0mevt_handled\u001b[0m\u001b[1;33m:\u001b[0m\u001b[1;33m\u001b[0m\u001b[1;33m\u001b[0m\u001b[0m\n\u001b[1;32m-> 1770\u001b[1;33m                     self.dialect.do_execute(\n\u001b[0m\u001b[0;32m   1771\u001b[0m                         \u001b[0mcursor\u001b[0m\u001b[1;33m,\u001b[0m \u001b[0mstatement\u001b[0m\u001b[1;33m,\u001b[0m \u001b[0mparameters\u001b[0m\u001b[1;33m,\u001b[0m \u001b[0mcontext\u001b[0m\u001b[1;33m\u001b[0m\u001b[1;33m\u001b[0m\u001b[0m\n\u001b[0;32m   1772\u001b[0m                     )\n",
      "\u001b[1;32mc:\\users\\shivam\\appdata\\local\\programs\\python\\python39\\lib\\site-packages\\sqlalchemy\\engine\\default.py\u001b[0m in \u001b[0;36mdo_execute\u001b[1;34m(self, cursor, statement, parameters, context)\u001b[0m\n\u001b[0;32m    715\u001b[0m \u001b[1;33m\u001b[0m\u001b[0m\n\u001b[0;32m    716\u001b[0m     \u001b[1;32mdef\u001b[0m \u001b[0mdo_execute\u001b[0m\u001b[1;33m(\u001b[0m\u001b[0mself\u001b[0m\u001b[1;33m,\u001b[0m \u001b[0mcursor\u001b[0m\u001b[1;33m,\u001b[0m \u001b[0mstatement\u001b[0m\u001b[1;33m,\u001b[0m \u001b[0mparameters\u001b[0m\u001b[1;33m,\u001b[0m \u001b[0mcontext\u001b[0m\u001b[1;33m=\u001b[0m\u001b[1;32mNone\u001b[0m\u001b[1;33m)\u001b[0m\u001b[1;33m:\u001b[0m\u001b[1;33m\u001b[0m\u001b[1;33m\u001b[0m\u001b[0m\n\u001b[1;32m--> 717\u001b[1;33m         \u001b[0mcursor\u001b[0m\u001b[1;33m.\u001b[0m\u001b[0mexecute\u001b[0m\u001b[1;33m(\u001b[0m\u001b[0mstatement\u001b[0m\u001b[1;33m,\u001b[0m \u001b[0mparameters\u001b[0m\u001b[1;33m)\u001b[0m\u001b[1;33m\u001b[0m\u001b[1;33m\u001b[0m\u001b[0m\n\u001b[0m\u001b[0;32m    718\u001b[0m \u001b[1;33m\u001b[0m\u001b[0m\n\u001b[0;32m    719\u001b[0m     \u001b[1;32mdef\u001b[0m \u001b[0mdo_execute_no_params\u001b[0m\u001b[1;33m(\u001b[0m\u001b[0mself\u001b[0m\u001b[1;33m,\u001b[0m \u001b[0mcursor\u001b[0m\u001b[1;33m,\u001b[0m \u001b[0mstatement\u001b[0m\u001b[1;33m,\u001b[0m \u001b[0mcontext\u001b[0m\u001b[1;33m=\u001b[0m\u001b[1;32mNone\u001b[0m\u001b[1;33m)\u001b[0m\u001b[1;33m:\u001b[0m\u001b[1;33m\u001b[0m\u001b[1;33m\u001b[0m\u001b[0m\n",
      "\u001b[1;31mOperationalError\u001b[0m: (sqlite3.OperationalError) cannot modify v_dw because it is a view\n[SQL: INSERT INTO v_dw (user_id, user_name, project_id, project_name) VALUES (?, ?, ?, ?)]\n[parameters: (2, 'Kishor', 2, 'B')]\n(Background on this error at: http://sqlalche.me/e/14/e3q8)"
     ]
    }
   ],
   "source": [
    "from models import t_v_dw\n",
    "\n",
    "batch = []\n",
    "\n",
    "for row in source_session.query(t_v_dw).all():\n",
    "    data, is_valid = filter_row(dict(row))\n",
    "    if is_valid:\n",
    "        batch.append(data)\n",
    "\n",
    "for data in batch:\n",
    "    target_session.execute(t_v_dw.insert(values=data))"
   ]
  },
  {
   "cell_type": "code",
   "execution_count": 50,
   "id": "0a518dfd",
   "metadata": {},
   "outputs": [
    {
     "name": "stdout",
     "output_type": "stream",
     "text": [
      "2021-06-04 16:57:54,551 INFO sqlalchemy.engine.Engine SELECT v_dw.user_id AS v_dw_user_id, v_dw.user_name AS v_dw_user_name, v_dw.project_id AS v_dw_project_id, v_dw.project_name AS v_dw_project_name \n",
      "FROM v_dw\n",
      "2021-06-04 16:57:54,552 INFO sqlalchemy.engine.Engine [generated in 0.00184s] ()\n",
      "(1, 'Shivam', 1, 'A')\n",
      "(2, 'Kishor', 2, 'B')\n"
     ]
    }
   ],
   "source": [
    "for row in target_session.query(t_v_dw).all():\n",
    "    print(row)"
   ]
  },
  {
   "cell_type": "code",
   "execution_count": 51,
   "id": "71dfa112",
   "metadata": {},
   "outputs": [],
   "source": [
    "source_engine.dispose()\n",
    "target_engine.dispose()"
   ]
  },
  {
   "cell_type": "code",
   "execution_count": null,
   "id": "cd3f8ff4",
   "metadata": {},
   "outputs": [],
   "source": []
  }
 ],
 "metadata": {
  "kernelspec": {
   "display_name": "Python 3",
   "language": "python",
   "name": "python3"
  },
  "language_info": {
   "codemirror_mode": {
    "name": "ipython",
    "version": 3
   },
   "file_extension": ".py",
   "mimetype": "text/x-python",
   "name": "python",
   "nbconvert_exporter": "python",
   "pygments_lexer": "ipython3",
   "version": "3.9.4"
  }
 },
 "nbformat": 4,
 "nbformat_minor": 5
}
